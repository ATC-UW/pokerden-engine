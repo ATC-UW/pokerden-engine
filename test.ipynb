{
 "cells": [
  {
   "cell_type": "code",
   "execution_count": 1,
   "metadata": {},
   "outputs": [],
   "source": [
    "from game import RoundState, Game\n",
    "from poker_types import PokerAction"
   ]
  },
  {
   "cell_type": "code",
   "execution_count": 2,
   "metadata": {},
   "outputs": [
    {
     "name": "stdout",
     "output_type": "stream",
     "text": [
      "Pot: 0 \n",
      " Raise Amount: 0 \n",
      " Bettor: None \n",
      " Waiting For: {0, 1, 2} \n",
      " Player Bets: {0: 0, 1: 0, 2: 0} \n",
      " Player Actions: {}\n",
      "Pot: 0 \n",
      " Raise Amount: 0 \n",
      " Bettor: None \n",
      " Waiting For: {0, 2} \n",
      " Player Bets: {0: 0, 1: 0, 2: 0} \n",
      " Player Actions: {1: <PokerAction.FOLD: 1>}\n",
      "Pot: 0 \n",
      " Raise Amount: 0 \n",
      " Bettor: None \n",
      " Waiting For: {0} \n",
      " Player Bets: {0: 0, 1: 0, 2: 0} \n",
      " Player Actions: {1: <PokerAction.FOLD: 1>, 2: <PokerAction.CHECK: 2>}\n",
      "Pot: 5 \n",
      " Raise Amount: 5 \n",
      " Bettor: 0 \n",
      " Waiting For: {2} \n",
      " Player Bets: {0: 5, 1: 0, 2: 0} \n",
      " Player Actions: {1: <PokerAction.FOLD: 1>, 2: None, 0: <PokerAction.RAISE: 4>}\n",
      "Pot: 15 \n",
      " Raise Amount: 10 \n",
      " Bettor: 2 \n",
      " Waiting For: {0} \n",
      " Player Bets: {0: 5, 1: 0, 2: 10} \n",
      " Player Actions: {1: <PokerAction.FOLD: 1>, 2: <PokerAction.RAISE: 4>, 0: None}\n",
      "Pot: 20 \n",
      " Raise Amount: 10 \n",
      " Bettor: 2 \n",
      " Waiting For: set() \n",
      " Player Bets: {0: 10, 1: 0, 2: 10} \n",
      " Player Actions: {1: <PokerAction.FOLD: 1>, 2: <PokerAction.RAISE: 4>, 0: <PokerAction.CALL: 3>}\n"
     ]
    }
   ],
   "source": [
    "round = RoundState([0,1,2])\n",
    "round.print_debug()\n",
    "\n",
    "round.update_player_action(1, PokerAction.FOLD, 0)\n",
    "round.print_debug()\n",
    "round.update_player_action(2, PokerAction.CHECK, 0)\n",
    "round.print_debug()\n",
    "round.update_player_action(0, PokerAction.RAISE, 5)\n",
    "round.print_debug()\n",
    "round.update_player_action(2, PokerAction.RAISE, 10)\n",
    "round.print_debug()\n",
    "round.update_player_action(0, PokerAction.CALL, 10)\n",
    "round.print_debug()"
   ]
  },
  {
   "cell_type": "code",
   "execution_count": 3,
   "metadata": {},
   "outputs": [],
   "source": [
    "g = Game()\n",
    "g.add_player(0)\n",
    "g.add_player(1)\n",
    "g.add_player(2)\n",
    "\n",
    "g.start_game()\n",
    "g.update_game(0, (PokerAction.FOLD, 0))\n",
    "g.update_game(1, (PokerAction.CHECK, 0))\n",
    "g.update_game(2, (PokerAction.CHECK, 0))\n",
    "g.print_debug()"
   ]
  },
  {
   "cell_type": "code",
   "execution_count": null,
   "metadata": {},
   "outputs": [],
   "source": [
    "g.print_debug()\n",
    "\n",
    "#  preflop\n",
    "g.start_round()\n",
    "g.update_game(1, (PokerAction.CHECK, 0))\n",
    "g.update_game(2, (PokerAction.CHECK, 0))\n",
    "g.end_round()\n",
    "g.print_debug()\n",
    "\n",
    "# flop\n",
    "g.start_round()\n",
    "g.update_game(1, (PokerAction.RAISE, 100))\n",
    "g.update_game(2, (PokerAction.CALL, 100))\n",
    "g.end_round()\n",
    "g.print_debug()\n",
    "\n",
    "# turn\n",
    "g.start_round()\n",
    "g.update_game(1, (PokerAction.RAISE, 100))\n",
    "g.update_game(2, (PokerAction.ALL_IN, 300))\n",
    "g.update_game(1, (PokerAction.CALL, 200))\n",
    "g.end_round()\n",
    "g.print_debug()\n",
    "\n",
    "# river\n",
    "g.start_round()\n",
    "g.update_game(1, (PokerAction.RAISE, 100))\n",
    "g.update_game(2, (PokerAction.RAISE, 200))\n",
    "g.end_round()\n",
    "g.print_debug()\n",
    "\n",
    "g.start_round()"
   ]
  }
 ],
 "metadata": {
  "kernelspec": {
   "display_name": "env",
   "language": "python",
   "name": "python3"
  },
  "language_info": {
   "codemirror_mode": {
    "name": "ipython",
    "version": 3
   },
   "file_extension": ".py",
   "mimetype": "text/x-python",
   "name": "python",
   "nbconvert_exporter": "python",
   "pygments_lexer": "ipython3",
   "version": "3.10.4"
  }
 },
 "nbformat": 4,
 "nbformat_minor": 2
}
