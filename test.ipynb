{
 "cells": [
  {
   "cell_type": "code",
   "execution_count": 8,
   "metadata": {},
   "outputs": [],
   "source": [
    "from game.game import Game\n",
    "from game.round_state import RoundState\n",
    "from poker_type.game import PokerAction"
   ]
  },
  {
   "cell_type": "code",
   "execution_count": 9,
   "metadata": {},
   "outputs": [
    {
     "name": "stdout",
     "output_type": "stream",
     "text": [
      "Pot: 0 \n",
      " Raise Amount: 0 \n",
      " Bettor: None \n",
      " Waiting For: {0, 1, 2} \n",
      " Player Bets: {0: 0, 1: 0, 2: 0} \n",
      " Player Actions: {}\n",
      "Pot: 0 \n",
      " Raise Amount: 0 \n",
      " Bettor: None \n",
      " Waiting For: {0, 2} \n",
      " Player Bets: {0: 0, 1: 0, 2: 0} \n",
      " Player Actions: {1: <PokerAction.FOLD: 1>}\n",
      "Pot: 0 \n",
      " Raise Amount: 0 \n",
      " Bettor: None \n",
      " Waiting For: {0} \n",
      " Player Bets: {0: 0, 1: 0, 2: 0} \n",
      " Player Actions: {1: <PokerAction.FOLD: 1>, 2: <PokerAction.CHECK: 2>}\n",
      "Pot: 5 \n",
      " Raise Amount: 5 \n",
      " Bettor: 0 \n",
      " Waiting For: {2} \n",
      " Player Bets: {0: 5, 1: 0, 2: 0} \n",
      " Player Actions: {1: <PokerAction.FOLD: 1>, 2: None, 0: <PokerAction.RAISE: 4>}\n",
      "Pot: 15 \n",
      " Raise Amount: 10 \n",
      " Bettor: 2 \n",
      " Waiting For: {0} \n",
      " Player Bets: {0: 5, 1: 0, 2: 10} \n",
      " Player Actions: {1: <PokerAction.FOLD: 1>, 2: <PokerAction.RAISE: 4>, 0: None}\n",
      "Pot: 20 \n",
      " Raise Amount: 10 \n",
      " Bettor: 2 \n",
      " Waiting For: set() \n",
      " Player Bets: {0: 10, 1: 0, 2: 10} \n",
      " Player Actions: {1: <PokerAction.FOLD: 1>, 2: <PokerAction.RAISE: 4>, 0: <PokerAction.CALL: 3>}\n"
     ]
    }
   ],
   "source": [
    "round = RoundState([0,1,2])\n",
    "round.print_debug()\n",
    "\n",
    "round.update_player_action(1, PokerAction.FOLD, 0)\n",
    "round.print_debug()\n",
    "round.update_player_action(2, PokerAction.CHECK, 0)\n",
    "round.print_debug()\n",
    "round.update_player_action(0, PokerAction.RAISE, 5)\n",
    "round.print_debug()\n",
    "round.update_player_action(2, PokerAction.RAISE, 10)\n",
    "round.print_debug()\n",
    "round.update_player_action(0, PokerAction.CALL, 10)\n",
    "round.print_debug()"
   ]
  },
  {
   "cell_type": "code",
   "execution_count": null,
   "metadata": {},
   "outputs": [
    {
     "name": "stdout",
     "output_type": "stream",
     "text": [
      "Players: [0, 1, 2] \n",
      " Active Players: [0, 1, 2] \n",
      " Hands: {0: [Card(\"Ad\"), Card(\"8c\")], 1: [Card(\"7c\"), Card(\"Td\")], 2: [Card(\"7h\"), Card(\"Tc\")]} \n",
      " Board: [] \n",
      " Round Index: 0 \n",
      " Total Pot: 0 \n",
      " Historical Pots: [] \n",
      " Player History: {} \n",
      " \t Current Round: \n",
      " \tPot: 0 \n",
      "\t Raise Amount: 0 \n",
      "\t Bettor: None \n",
      "\t Waiting For: {0, 1, 2} \n",
      "\t Player Bets: {0: 0, 1: 0, 2: 0} \n",
      "\t Player Actions: {}\n"
     ]
    }
   ],
   "source": [
    "g = Game(debug=True)\n",
    "g.add_player(0)\n",
    "g.add_player(1)\n",
    "g.add_player(2)\n",
    "\n",
    "g.start_game()\n",
    "g.update_game(0, (PokerAction.FOLD, 0))\n",
    "g.update_game(1, (PokerAction.CHECK, 0))\n",
    "g.update_game(2, (PokerAction.CHECK, 0))\n",
    "g.print_debug()"
   ]
  },
  {
   "cell_type": "code",
   "execution_count": 11,
   "metadata": {},
   "outputs": [
    {
     "name": "stdout",
     "output_type": "stream",
     "text": [
      "Players: [0, 1, 2] \n",
      " Active Players: [0, 1, 2] \n",
      " Hands: {0: [Card(\"Ad\"), Card(\"8c\")], 1: [Card(\"7c\"), Card(\"Td\")], 2: [Card(\"7h\"), Card(\"Tc\")]} \n",
      " Board: [] \n",
      " Round Index: 0 \n",
      " Total Pot: 0 \n",
      " Historical Pots: [] \n",
      " Player History: {} \n",
      " \t Current Round: \n",
      " \tPot: 0 \n",
      "\t Raise Amount: 0 \n",
      "\t Bettor: None \n",
      "\t Waiting For: {0, 1, 2} \n",
      "\t Player Bets: {0: 0, 1: 0, 2: 0} \n",
      "\t Player Actions: {}\n"
     ]
    },
    {
     "ename": "ValueError",
     "evalue": "Round cannot end while players are still waiting to act",
     "output_type": "error",
     "traceback": [
      "\u001b[1;31m---------------------------------------------------------------------------\u001b[0m",
      "\u001b[1;31mValueError\u001b[0m                                Traceback (most recent call last)",
      "Cell \u001b[1;32mIn[11], line 7\u001b[0m\n\u001b[0;32m      5\u001b[0m g\u001b[38;5;241m.\u001b[39mupdate_game(\u001b[38;5;241m1\u001b[39m, (PokerAction\u001b[38;5;241m.\u001b[39mCHECK, \u001b[38;5;241m0\u001b[39m))\n\u001b[0;32m      6\u001b[0m g\u001b[38;5;241m.\u001b[39mupdate_game(\u001b[38;5;241m2\u001b[39m, (PokerAction\u001b[38;5;241m.\u001b[39mCHECK, \u001b[38;5;241m0\u001b[39m))\n\u001b[1;32m----> 7\u001b[0m \u001b[43mg\u001b[49m\u001b[38;5;241;43m.\u001b[39;49m\u001b[43mend_round\u001b[49m\u001b[43m(\u001b[49m\u001b[43m)\u001b[49m\n\u001b[0;32m      8\u001b[0m g\u001b[38;5;241m.\u001b[39mprint_debug()\n\u001b[0;32m     10\u001b[0m \u001b[38;5;66;03m# flop\u001b[39;00m\n",
      "File \u001b[1;32mc:\\Users\\nguye\\Desktop\\Random\\ATC\\pokerden-engine\\game\\game.py:118\u001b[0m, in \u001b[0;36mGame.end_round\u001b[1;34m(self)\u001b[0m\n\u001b[0;32m    116\u001b[0m \u001b[38;5;28;01mdef\u001b[39;00m\u001b[38;5;250m \u001b[39m\u001b[38;5;21mend_round\u001b[39m(\u001b[38;5;28mself\u001b[39m):\n\u001b[0;32m    117\u001b[0m     \u001b[38;5;28;01mif\u001b[39;00m \u001b[38;5;129;01mnot\u001b[39;00m \u001b[38;5;28mself\u001b[39m\u001b[38;5;241m.\u001b[39mcurrent_round\u001b[38;5;241m.\u001b[39mis_round_complete():\n\u001b[1;32m--> 118\u001b[0m         \u001b[38;5;28;01mraise\u001b[39;00m \u001b[38;5;167;01mValueError\u001b[39;00m(\u001b[38;5;124m\"\u001b[39m\u001b[38;5;124mRound cannot end while players are still waiting to act\u001b[39m\u001b[38;5;124m\"\u001b[39m)\n\u001b[0;32m    120\u001b[0m     \u001b[38;5;28mself\u001b[39m\u001b[38;5;241m.\u001b[39mhistorical_pots\u001b[38;5;241m.\u001b[39mappend(\u001b[38;5;28mself\u001b[39m\u001b[38;5;241m.\u001b[39mcurrent_round\u001b[38;5;241m.\u001b[39mpot)\n\u001b[0;32m    121\u001b[0m     \u001b[38;5;28mself\u001b[39m\u001b[38;5;241m.\u001b[39mtotal_pot \u001b[38;5;241m+\u001b[39m\u001b[38;5;241m=\u001b[39m \u001b[38;5;28mself\u001b[39m\u001b[38;5;241m.\u001b[39mcurrent_round\u001b[38;5;241m.\u001b[39mpot\n",
      "\u001b[1;31mValueError\u001b[0m: Round cannot end while players are still waiting to act"
     ]
    }
   ],
   "source": [
    "g.print_debug()\n",
    "\n",
    "#  preflop\n",
    "g.start_round()\n",
    "g.update_game(1, (PokerAction.CHECK, 0))\n",
    "g.update_game(2, (PokerAction.CHECK, 0))\n",
    "g.end_round()\n",
    "g.print_debug()\n",
    "\n",
    "# flop\n",
    "g.start_round()\n",
    "g.update_game(1, (PokerAction.RAISE, 100))\n",
    "g.update_game(2, (PokerAction.CALL, 100))\n",
    "g.end_round()\n",
    "g.print_debug()\n",
    "\n",
    "# turn\n",
    "g.start_round()\n",
    "g.update_game(1, (PokerAction.RAISE, 100))\n",
    "g.update_game(2, (PokerAction.ALL_IN, 300))\n",
    "g.update_game(1, (PokerAction.CALL, 200))\n",
    "g.end_round()\n",
    "g.print_debug()\n",
    "\n",
    "# river\n",
    "g.start_round()\n",
    "g.update_game(1, (PokerAction.RAISE, 100))\n",
    "g.update_game(2, (PokerAction.RAISE, 200))\n",
    "g.end_round()\n",
    "g.print_debug()\n",
    "\n",
    "g.start_round()"
   ]
  },
  {
   "cell_type": "code",
   "execution_count": null,
   "metadata": {},
   "outputs": [
    {
     "name": "stdout",
     "output_type": "stream",
     "text": [
      "GameStateMessage(round_num=4, round='River', community_cards=[Card(\"2h\"), Card(\"8h\"), Card(\"6d\"), Card(\"Jc\"), Card(\"Qh\")], pot=100, current_player=set(), current_bet=100, min_raise=100, max_raise=200)\n"
     ]
    }
   ],
   "source": [
    "game_state = g.get_game_state()\n",
    "print(game_state)"
   ]
  },
  {
   "cell_type": "code",
   "execution_count": null,
   "metadata": {},
   "outputs": [
    {
     "name": "stdout",
     "output_type": "stream",
     "text": [
      "[Card(\"2h\"), Card(\"8h\"), Card(\"6d\"), Card(\"Jc\"), Card(\"Qh\")]\n"
     ]
    }
   ],
   "source": [
    "print(str(game_state.community_cards))"
   ]
  },
  {
   "cell_type": "code",
   "execution_count": null,
   "metadata": {},
   "outputs": [
    {
     "name": "stdout",
     "output_type": "stream",
     "text": [
      "GameStateMessage(round_num=4, round='River', community_cards=[Card(\"2h\"), Card(\"8h\"), Card(\"6d\"), Card(\"Jc\"), Card(\"Qh\")], pot=100, current_player=set(), current_bet=100, min_raise=100, max_raise=200)\n",
      "{\"type\": \"MessageType.GAME_STATE\", \"message\": {\"round_num\": 4, \"round\": \"River\", \"community_cards\": [\"2h\", \"8h\", \"6d\", \"Jc\", \"Qh\"], \"pot\": 100, \"current_player\": [], \"current_bet\": 100, \"min_raise\": 100, \"max_raise\": 200}}\n",
      "{\"type\": \"MessageType.GAME_STATE\", \"message\": {\"round_num\": 4, \"round\": \"River\", \"community_cards\": [\"2h\", \"8h\", \"6d\", \"Jc\", \"Qh\"], \"pot\": 100, \"current_player\": [], \"current_bet\": 100, \"min_raise\": 100, \"max_raise\": 200}}\n"
     ]
    }
   ],
   "source": [
    "from message import GAME_STATE\n",
    "import json\n",
    "\n",
    "mes = GAME_STATE(game_state)\n",
    "print(game_state)\n",
    "# print(mes)\n",
    "\n",
    "data = mes.serialize()\n",
    "\n",
    "print(data)\n",
    "\n",
    "mes2 = GAME_STATE.parse(data)\n",
    "print(mes2)"
   ]
  }
 ],
 "metadata": {
  "kernelspec": {
   "display_name": "env",
   "language": "python",
   "name": "python3"
  },
  "language_info": {
   "codemirror_mode": {
    "name": "ipython",
    "version": 3
   },
   "file_extension": ".py",
   "mimetype": "text/x-python",
   "name": "python",
   "nbconvert_exporter": "python",
   "pygments_lexer": "ipython3",
   "version": "3.10.14"
  }
 },
 "nbformat": 4,
 "nbformat_minor": 2
}
